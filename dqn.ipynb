{
 "cells": [
  {
   "cell_type": "code",
   "execution_count": 1,
   "metadata": {},
   "outputs": [],
   "source": [
    "import gymnasium as gym\n",
    "import math\n",
    "import random\n",
    "import matplotlib\n",
    "import matplotlib.pyplot as plt\n",
    "from collections import namedtuple, deque\n",
    "from itertools import count\n",
    "\n",
    "import torch\n",
    "import torch.nn as nn\n",
    "import torch.optim as optim\n",
    "import torch.nn.functional as F\n",
    "\n",
    "import numpy as np\n",
    "\n",
    "from tqdm import tqdm\n",
    "from IPython import display as ipythondisplay\n",
    "from PIL import Image"
   ]
  },
  {
   "cell_type": "code",
   "execution_count": 2,
   "metadata": {},
   "outputs": [
    {
     "name": "stdout",
     "output_type": "stream",
     "text": [
      "mps\n"
     ]
    }
   ],
   "source": [
    "if torch.cuda.is_available():\n",
    "    device = torch.device(\"cuda\")\n",
    "elif torch.backends.mps.is_available():\n",
    "    device = torch.device(\"mps\")\n",
    "else:\n",
    "    device = torch.device(\"cpu\")\n",
    "\n",
    "print(device)"
   ]
  },
  {
   "cell_type": "code",
   "execution_count": 3,
   "metadata": {},
   "outputs": [],
   "source": [
    "Transition = namedtuple('Transition',\n",
    "                        ('state', 'action', 'next_state', 'reward', 'done'))\n",
    "\n",
    "class ReplayMemory(object):\n",
    "\n",
    "    def __init__(self, capacity):\n",
    "        self.memory = deque([], maxlen=capacity)\n",
    "\n",
    "    def push(self, states, actions, next_states, rewards, dones):\n",
    "        for i in range(len(states)):\n",
    "            transition = Transition(states[i], actions[i], next_states[i], rewards[i], dones[i])\n",
    "            self.memory.append(transition)\n",
    "\n",
    "    def sample(self, batch_size):\n",
    "        return random.sample(self.memory, batch_size)\n",
    "\n",
    "    def __len__(self):\n",
    "        return len(self.memory)\n",
    "    \n",
    "class DQN(nn.Module):\n",
    "    def __init__(self, n_observations, n_actions):\n",
    "        super(DQN, self).__init__()\n",
    "        self.layer1 = nn.Linear(n_observations, 128)\n",
    "        self.layer2 = nn.Linear(128, 128)\n",
    "        self.layer3 = nn.Linear(128, n_actions)\n",
    "\n",
    "    def forward(self, x):\n",
    "        x = F.relu(self.layer1(x))\n",
    "        x = F.relu(self.layer2(x))\n",
    "        return self.layer3(x)\n",
    "    \n",
    "    def act(self, state):\n",
    "        with torch.no_grad():\n",
    "            return self(state).max(-1).indices"
   ]
  },
  {
   "cell_type": "code",
   "execution_count": 4,
   "metadata": {},
   "outputs": [],
   "source": [
    "BATCH_SIZE = 128\n",
    "GAMMA = 0.99\n",
    "EPS_START = 0.9\n",
    "EPS_END = 0.05\n",
    "EPS_DECAY = 10000\n",
    "TAU = 0.01\n",
    "LR = 5e-4"
   ]
  },
  {
   "cell_type": "code",
   "execution_count": 5,
   "metadata": {},
   "outputs": [],
   "source": [
    "train_envs = gym.make_vec(\"CartPole-v1\", num_envs=4, vectorization_mode=\"sync\")\n",
    "eval_envs = gym.make_vec(\"CartPole-v1\", num_envs=1, vectorization_mode=\"sync\")\n",
    "vis_env = gym.make(\"CartPole-v1\", render_mode=\"rgb_array\")\n",
    "\n",
    "n_observations = train_envs.observation_space.shape[0]\n",
    "n_actions = train_envs.action_space.nvec[0]"
   ]
  },
  {
   "cell_type": "code",
   "execution_count": 6,
   "metadata": {},
   "outputs": [],
   "source": [
    "policy_net = DQN(n_observations, n_actions).to(device)\n",
    "target_net = DQN(n_observations, n_actions).to(device)\n",
    "target_net.load_state_dict(policy_net.state_dict())\n",
    "\n",
    "optimizer = optim.AdamW(policy_net.parameters(), lr=LR, amsgrad=True)\n",
    "memory = ReplayMemory(10000)"
   ]
  },
  {
   "cell_type": "code",
   "execution_count": 7,
   "metadata": {},
   "outputs": [],
   "source": [
    "def optimize_model() -> None:\n",
    "    if len(memory) < BATCH_SIZE:\n",
    "        return\n",
    "    \n",
    "    transitions = memory.sample(BATCH_SIZE)\n",
    "    batch = Transition(*zip(*transitions))\n",
    "\n",
    "    state_batch = torch.stack(batch.state)\n",
    "    next_states_batch = torch.stack(batch.next_state)\n",
    "\n",
    "    action_batch = torch.stack(batch.action).to(torch.int64)\n",
    "    reward_batch = torch.stack(batch.reward)\n",
    "    \n",
    "    done_batch = torch.stack(batch.done)\n",
    "\n",
    "    state_action_values = policy_net(state_batch).gather(-1, action_batch.unsqueeze(-1))\n",
    "\n",
    "    with torch.no_grad():\n",
    "        next_state_values = target_net(next_states_batch).max(1).values\n",
    "        next_state_values = torch.where(done_batch, torch.zeros_like(next_state_values, device=device), next_state_values)\n",
    "\n",
    "    expected_state_action_values = (next_state_values * GAMMA) + reward_batch\n",
    "\n",
    "    criterion = nn.SmoothL1Loss()\n",
    "    loss = criterion(state_action_values, expected_state_action_values.unsqueeze(1))\n",
    "\n",
    "    optimizer.zero_grad()\n",
    "    loss.backward()\n",
    "    torch.nn.utils.clip_grad_value_(policy_net.parameters(), 100)\n",
    "    optimizer.step()\n",
    "\n",
    "def eval() -> int:\n",
    "    eval_state, _ = eval_envs.reset()\n",
    "    for t in count():\n",
    "        eval_state_tensor = torch.tensor(eval_state, dtype=torch.float32, device=device)\n",
    "\n",
    "        action = target_net(eval_state_tensor).max(-1).indices\n",
    "\n",
    "        observation, _, terminated, truncated, _ = eval_envs.step(action.cpu().numpy())\n",
    "        done = np.logical_or(terminated, truncated)\n",
    "\n",
    "        eval_state = observation\n",
    "\n",
    "        if(done.squeeze()):\n",
    "            return t\n",
    "        \n",
    "def visualize() -> None:\n",
    "    images = []\n",
    "    vis_state, vis_info = vis_env.reset(seed=82)\n",
    "    frame = vis_env.render()\n",
    "    images.append(Image.fromarray(frame))\n",
    "    for t in count():\n",
    "        vis_state_tensor = torch.tensor(vis_state, dtype=torch.float32, device=device)\n",
    "\n",
    "        action = target_net(vis_state_tensor).max(-1).indices\n",
    "\n",
    "        observation, _, terminated, truncated, _ = vis_env.step(action.cpu().numpy())\n",
    "        done = np.logical_or(terminated, truncated)\n",
    "        vis_state = observation\n",
    "\n",
    "        frame = vis_env.render()\n",
    "        images.append(Image.fromarray(frame))\n",
    "\n",
    "        if done.squeeze() or t >= 500:\n",
    "            vis_env.close()\n",
    "            break\n",
    "    \n",
    "    images[0].save(f'cartpole-v1-step-{t}.gif', save_all=True, append_images = images[1:], loop=0, duration=1)"
   ]
  },
  {
   "cell_type": "code",
   "execution_count": 8,
   "metadata": {},
   "outputs": [
    {
     "name": "stderr",
     "output_type": "stream",
     "text": [
      "Training Episodes: 100%|██████████| 1000/1000 [00:21<00:00, 46.16episode/s, weighted_avg_reward=187] \n"
     ]
    },
    {
     "data": {
      "image/png": "[encoded data removed]",
      "text/plain": [
       "<Figure size 640x480 with 1 Axes>"
      ]
     },
     "metadata": {},
     "output_type": "display_data"
    }
   ],
   "source": [
    "num_episodes = 1000\n",
    "weighted_avg_reward = 0.0  # Initialize weighted average reward\n",
    "reward_list = []\n",
    "\n",
    "states, info = train_envs.reset()\n",
    "states = torch.tensor(states, dtype=torch.float32, device=device)\n",
    "\n",
    "with tqdm(range(num_episodes), desc=\"Training Episodes\", unit=\"episode\") as pbar:\n",
    "    for i_episode in pbar:\n",
    "        if random.random() > EPS_END + (EPS_START - EPS_END) *  math.exp(-1. * i_episode / EPS_DECAY):\n",
    "            with torch.no_grad():\n",
    "                actions =  policy_net(states).max(-1).indices.cpu().numpy()\n",
    "        else:\n",
    "            actions =  train_envs.action_space.sample()\n",
    "\n",
    "        observations, reward, terminated, truncated, _ = train_envs.step(actions)\n",
    "        dones = torch.tensor(np.logical_or(terminated, truncated), dtype=torch.bool, device=device)\n",
    "        rewards = torch.tensor(reward, dtype=torch.float32, device=device)\n",
    "        next_states = torch.tensor(observations, dtype=torch.float32, device=device)\n",
    "        \n",
    "        memory.push(states, torch.tensor(actions, dtype=torch.int32, device=device), next_states, rewards, dones)\n",
    "        states = next_states\n",
    "\n",
    "        optimize_model()\n",
    "\n",
    "        target_net_state_dict = target_net.state_dict()\n",
    "        policy_net_state_dict = policy_net.state_dict()\n",
    "\n",
    "        for key in policy_net_state_dict:\n",
    "            target_net_state_dict[key] = policy_net_state_dict[key]*TAU + target_net_state_dict[key]*(1-TAU)\n",
    "            \n",
    "        target_net.load_state_dict(target_net_state_dict)\n",
    "\n",
    "        if i_episode % 10 == 0:\n",
    "            t = eval()\n",
    "            weighted_avg_reward = weighted_avg_reward * 0.9 + t * 0.1  # Update weighted average\n",
    "            reward_list.append(weighted_avg_reward)\n",
    "            pbar.set_postfix(weighted_avg_reward = weighted_avg_reward)\n",
    "\n",
    "plt.plot(reward_list)\n",
    "plt.xlabel('Episode (every 100 episodes)')\n",
    "plt.ylabel('Evaluation Reward')\n",
    "plt.title('Reward Over Time')\n",
    "plt.show()"
   ]
  },
  {
   "cell_type": "code",
   "execution_count": 9,
   "metadata": {},
   "outputs": [],
   "source": [
    "visualize()"
   ]
  },
  {
   "cell_type": "code",
   "execution_count": null,
   "metadata": {},
   "outputs": [],
   "source": []
  }
 ],
 "metadata": {
  "kernelspec": {
   "display_name": "rei",
   "language": "python",
   "name": "python3"
  },
  "language_info": {
   "codemirror_mode": {
    "name": "ipython",
    "version": 3
   },
   "file_extension": ".py",
   "mimetype": "text/x-python",
   "name": "python",
   "nbconvert_exporter": "python",
   "pygments_lexer": "ipython3",
   "version": "3.12.2"
  }
 },
 "nbformat": 4,
 "nbformat_minor": 2
}
